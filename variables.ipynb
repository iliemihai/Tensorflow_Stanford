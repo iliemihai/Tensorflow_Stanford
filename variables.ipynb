{
 "cells": [
  {
   "cell_type": "code",
   "execution_count": 6,
   "metadata": {},
   "outputs": [
    {
     "name": "stdout",
     "output_type": "stream",
     "text": [
      "[[  2.45566463e+01   3.52140503e+01  -3.66167903e+00   5.90760326e+00\n",
      "   -1.79870434e+01  -1.35132933e+01  -3.33225131e-02   2.53714733e+01\n",
      "   -5.49787951e+00   1.76126595e+01]]\n"
     ]
    }
   ],
   "source": [
    "import os\n",
    "os.environ['TF_CPP_MIN_LOG_LEVEL'] = '2'\n",
    "\n",
    "import tensorflow as tf\n",
    "import numpy as np\n",
    "\n",
    "tf.reset_default_graph() \n",
    "bias = tf.Variable(tf.truncated_normal([1,10]), name=\"normal_matrix\", dtype=tf.float32)\n",
    "s = tf.get_variable(\"scalar\", initializer=tf.constant(2))\n",
    "m = tf.get_variable(\"matrix\", initializer=tf.constant([[0,1],[2,3]]))\n",
    "W = tf.get_variable(\"big_matrix\", shape=(784,10), initializer=tf.truncated_normal_initializer())\n",
    "X = tf.get_variable(\"normal_matrix\", shape=(784), initializer=tf.truncated_normal_initializer())\n",
    "\n",
    "with tf.Session() as sess:\n",
    "    sess.run(tf.global_variables_initializer())\n",
    "    print(tf.add(tf.matmul(tf.expand_dims(X,0), W), bias).eval())\n",
    "\n"
   ]
  },
  {
   "cell_type": "code",
   "execution_count": null,
   "metadata": {},
   "outputs": [],
   "source": []
  }
 ],
 "metadata": {
  "kernelspec": {
   "display_name": "Python 3",
   "language": "python",
   "name": "python3"
  },
  "language_info": {
   "codemirror_mode": {
    "name": "ipython",
    "version": 3
   },
   "file_extension": ".py",
   "mimetype": "text/x-python",
   "name": "python",
   "nbconvert_exporter": "python",
   "pygments_lexer": "ipython3",
   "version": "3.5.2"
  }
 },
 "nbformat": 4,
 "nbformat_minor": 2
}
