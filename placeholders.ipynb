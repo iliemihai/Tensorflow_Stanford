{
 "cells": [
  {
   "cell_type": "code",
   "execution_count": 9,
   "metadata": {},
   "outputs": [
    {
     "name": "stdout",
     "output_type": "stream",
     "text": [
      "[ 5. 10. 15.]\n",
      "21\n",
      "30\n"
     ]
    }
   ],
   "source": [
    "import os\n",
    "os.environ['TF_CPP_MIN_LOG_LEVEL']='2'\n",
    "\n",
    "import tensorflow as tf\n",
    "\n",
    "a = tf.placeholder(tf.float32, shape=[3])\n",
    "\n",
    "b = tf.constant([5,5,5], tf.float32)\n",
    "\n",
    "c = tf.multiply(a, b)\n",
    "\n",
    "writer = tf.summary.FileWriter(\"graph_2\", tf.get_default_graph())\n",
    "with tf.Session() as sess:\n",
    "    print ( sess.run(c, feed_dict = {a:[1,2,3]}))\n",
    "writer.close()\n",
    "\n",
    "s = tf.add(5, 2)\n",
    "t = tf.multiply(s, 3)\n",
    "\n",
    "with tf.Session() as sess:\n",
    "    print(sess.run(t)) # 21\n",
    "    print(sess.run(t, feed_dict={s:10})) # give parameter "
   ]
  }
 ],
 "metadata": {
  "kernelspec": {
   "display_name": "Python 3",
   "language": "python",
   "name": "python3"
  },
  "language_info": {
   "codemirror_mode": {
    "name": "ipython",
    "version": 3
   },
   "file_extension": ".py",
   "mimetype": "text/x-python",
   "name": "python",
   "nbconvert_exporter": "python",
   "pygments_lexer": "ipython3",
   "version": "3.5.2"
  }
 },
 "nbformat": 4,
 "nbformat_minor": 2
}
